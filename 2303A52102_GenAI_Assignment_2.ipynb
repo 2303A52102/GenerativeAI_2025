{
  "nbformat": 4,
  "nbformat_minor": 0,
  "metadata": {
    "colab": {
      "provenance": [],
      "authorship_tag": "ABX9TyM4IeLBS8+w/a9hdAc4Li1c",
      "include_colab_link": true
    },
    "kernelspec": {
      "name": "python3",
      "display_name": "Python 3"
    },
    "language_info": {
      "name": "python"
    }
  },
  "cells": [
    {
      "cell_type": "markdown",
      "metadata": {
        "id": "view-in-github",
        "colab_type": "text"
      },
      "source": [
        "<a href=\"https://colab.research.google.com/github/2303A52102/GenerativeAI_2025/blob/main/2303A52102_GenAI_Assignment_2.ipynb\" target=\"_parent\"><img src=\"https://colab.research.google.com/assets/colab-badge.svg\" alt=\"Open In Colab\"/></a>"
      ]
    },
    {
      "cell_type": "markdown",
      "source": [
        "Generative AI - Assignment - 2\n",
        "\n",
        "1. (1 ponto) Develop mathematical modeling for the given case study and find solution using\n",
        "Python\n"
      ],
      "metadata": {
        "id": "Csq-XzTxmAZT"
      }
    },
    {
      "cell_type": "code",
      "execution_count": 7,
      "metadata": {
        "colab": {
          "base_uri": "https://localhost:8080/"
        },
        "id": "m347AUpjhEln",
        "outputId": "3d50aa59-27b5-4008-e9d7-d16fd7755df0"
      },
      "outputs": [
        {
          "output_type": "stream",
          "name": "stdout",
          "text": [
            "Optimal number of A: 2.00\n",
            "Optimal number of B: 3.00\n",
            "Maximum profit: Rs 27.00\n"
          ]
        }
      ],
      "source": [
        "from scipy.optimize import linprog\n",
        "c = [-6, -5]\n",
        "A = [\n",
        "    [1, 1],\n",
        "    [3, 2]\n",
        "]\n",
        "b = [5, 12]\n",
        "x_bounds = (0, None)\n",
        "y_bounds = (0, None)\n",
        "result = linprog(c, A_ub=A, b_ub=b, bounds=[x_bounds, y_bounds], method='highs')\n",
        "if result.success:\n",
        "    x, y = result.x\n",
        "    max_profit = -result.fun\n",
        "    print(f\"Optimal number of A: {x:.2f}\")\n",
        "    print(f\"Optimal number of B: {y:.2f}\")\n",
        "    print(f\"Maximum profit: Rs {max_profit:.2f}\")\n",
        "else:\n",
        "    print(\"No solution found!\")"
      ]
    },
    {
      "cell_type": "markdown",
      "source": [
        "2. (1 ponto) Develop mathematical modeling for the given case study and find solution using python\n"
      ],
      "metadata": {
        "id": "CsN2fTw6nYu8"
      }
    },
    {
      "cell_type": "code",
      "source": [
        "from scipy.optimize import linprog\n",
        "c = [-50, -120]\n",
        "A = [\n",
        "    [1, 1],\n",
        "    [7000, 2000],\n",
        "    [10, 30]\n",
        "]\n",
        "b = [110, 700000, 1200]\n",
        "x_bounds = (0, None)\n",
        "y_bounds = (0, None)\n",
        "result = linprog(c, A_ub=A, b_ub=b, bounds=[x_bounds, y_bounds], method='highs')\n",
        "if result.success:\n",
        "    x, y = result.x\n",
        "    max_profit = -result.fun\n",
        "    print(f\"Optimal hectares for Wheat: {x:.2f}\")\n",
        "    print(f\"Optimal hectares for Barley: {y:.2f}\")\n",
        "    print(f\"Maximum Profit: Rs {max_profit:.2f}\")\n",
        "else:\n",
        "    print(\"No solution found!\")"
      ],
      "metadata": {
        "colab": {
          "base_uri": "https://localhost:8080/"
        },
        "id": "KJO3dl9poDIa",
        "outputId": "668ed6de-8906-49d5-99e4-d5e633b63651"
      },
      "execution_count": 9,
      "outputs": [
        {
          "output_type": "stream",
          "name": "stdout",
          "text": [
            "Optimal hectares for Wheat: 97.89\n",
            "Optimal hectares for Barley: 7.37\n",
            "Maximum Profit: Rs 5778.95\n"
          ]
        }
      ]
    }
  ]
}